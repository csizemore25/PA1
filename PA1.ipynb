{
 "cells": [
  {
   "cell_type": "markdown",
   "id": "8761a75e",
   "metadata": {},
   "source": [
    "# Programming Assignment 1"
   ]
  },
  {
   "cell_type": "markdown",
   "id": "ae76c286",
   "metadata": {},
   "source": [
    "## Author: Caitlin Sizemore "
   ]
  },
  {
   "cell_type": "markdown",
   "id": "d7a90a3f",
   "metadata": {},
   "source": [
    "### Version 1"
   ]
  },
  {
   "cell_type": "markdown",
   "id": "e23107be",
   "metadata": {},
   "source": [
    "### CS150 Section 1"
   ]
  },
  {
   "cell_type": "code",
   "execution_count": 7,
   "id": "5f5d4cc0",
   "metadata": {},
   "outputs": [
    {
     "name": "stdout",
     "output_type": "stream",
     "text": [
      "Enter an integer: 27\n"
     ]
    }
   ],
   "source": [
    "number1=int(input(\"Enter an integer: \"))"
   ]
  },
  {
   "cell_type": "code",
   "execution_count": 8,
   "id": "f392246f",
   "metadata": {},
   "outputs": [
    {
     "name": "stdout",
     "output_type": "stream",
     "text": [
      "Enter a floating number: 34.6\n"
     ]
    }
   ],
   "source": [
    "number2=float(input(\"Enter a floating number: \"))"
   ]
  },
  {
   "cell_type": "code",
   "execution_count": 9,
   "id": "14bcdd97",
   "metadata": {},
   "outputs": [
    {
     "name": "stdout",
     "output_type": "stream",
     "text": [
      "The addition:  61.6\n"
     ]
    }
   ],
   "source": [
    "print('The addition: ', (number1 + number2))"
   ]
  },
  {
   "cell_type": "code",
   "execution_count": 10,
   "id": "99fb24e7",
   "metadata": {},
   "outputs": [
    {
     "name": "stdout",
     "output_type": "stream",
     "text": [
      "The subtraction:  7.600000000000001\n"
     ]
    }
   ],
   "source": [
    "print('The subtraction: ', (number2 - number1))"
   ]
  },
  {
   "cell_type": "code",
   "execution_count": 11,
   "id": "c05e4869",
   "metadata": {},
   "outputs": [
    {
     "name": "stdout",
     "output_type": "stream",
     "text": [
      "The multiplcation:  934.2\n"
     ]
    }
   ],
   "source": [
    "print('The multiplcation: ', (number1 * number2))"
   ]
  },
  {
   "cell_type": "code",
   "execution_count": 12,
   "id": "677abefe",
   "metadata": {},
   "outputs": [
    {
     "name": "stdout",
     "output_type": "stream",
     "text": [
      "The division:  0.7803468208092486\n"
     ]
    }
   ],
   "source": [
    "print('The division: ', (number1 / number2))"
   ]
  },
  {
   "cell_type": "code",
   "execution_count": 13,
   "id": "d2bdaf1f",
   "metadata": {},
   "outputs": [
    {
     "name": "stdout",
     "output_type": "stream",
     "text": [
      "<class 'float'>\n"
     ]
    }
   ],
   "source": [
    "print(type(number2))"
   ]
  },
  {
   "cell_type": "code",
   "execution_count": null,
   "id": "43af06e0",
   "metadata": {},
   "outputs": [],
   "source": []
  }
 ],
 "metadata": {
  "kernelspec": {
   "display_name": "Python 3 (ipykernel)",
   "language": "python",
   "name": "python3"
  },
  "language_info": {
   "codemirror_mode": {
    "name": "ipython",
    "version": 3
   },
   "file_extension": ".py",
   "mimetype": "text/x-python",
   "name": "python",
   "nbconvert_exporter": "python",
   "pygments_lexer": "ipython3",
   "version": "3.9.12"
  }
 },
 "nbformat": 4,
 "nbformat_minor": 5
}
